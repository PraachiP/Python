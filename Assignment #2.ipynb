{
 "cells": [
  {
   "cell_type": "code",
   "execution_count": 64,
   "metadata": {},
   "outputs": [],
   "source": [
    "# employee data with key as id of the employee and values as age of the employee\n",
    "Employee_data ={101: 43, 102: 25, 103: 43, 104: 31, 105: 26, 106: 28, 107: 29, 108: 43, 109: 25, 110: 22, 111: 22, 112: 25, 113: 30, 115: 45, 116: 23, 117: 29, 118: 28, 119: 30, 120: 28, 121: 42, 122: 39, 123: 29, 124: 42, 125: 43, 126: 42, 127: 40, 128: 27, 129: 23, 130: 30, 131: 37, 132: 20, 133: 36, 134: 27, 135: 27, 136: 22, 137: 28, 138: 23, 139: 45, 140: 39, 141: 29, 142: 33, 143: 39, 145: 34, 146: 26, 147: 30, 148: 38, 149: 29, 150: 24, 151: 28, 152: 34, 153: 42, 154: 29, 155: 23, 156: 31, 158: 25, 160: 45, 161: 42, 162: 27, 163: 24, 164: 20, 166: 24, 167: 28, 168: 20, 169: 33, 170: 34, 171: 37, 172: 45, 173: 35, 174: 23, 175: 44, 176: 27, 177: 30, 178: 26, 179: 27} "
   ]
  },
  {
   "cell_type": "markdown",
   "metadata": {},
   "source": [
    "#### Identify the senior most employees age\n",
    "\n",
    "- 45\n",
    "- 44\n",
    "- 48\n",
    "- 42"
   ]
  },
  {
   "cell_type": "code",
   "execution_count": 65,
   "metadata": {},
   "outputs": [
    {
     "name": "stdout",
     "output_type": "stream",
     "text": [
      "[20, 20, 20, 22, 22, 22, 23, 23, 23, 23, 23, 24, 24, 24, 25, 25, 25, 25, 26, 26, 26, 27, 27, 27, 27, 27, 27, 28, 28, 28, 28, 28, 28, 29, 29, 29, 29, 29, 29, 30, 30, 30, 30, 30, 31, 31, 33, 33, 34, 34, 34, 35, 36, 37, 37, 38, 39, 39, 39, 40, 42, 42, 42, 42, 42, 43, 43, 43, 43, 44, 45, 45, 45, 45] \n",
      "\n",
      "Seniormost Employee age is:-   45\n"
     ]
    }
   ],
   "source": [
    "# Type your code here\n",
    "m = sorted(Employee_data.values())\n",
    "print(m, \"\\n\")\n",
    "print(\"Seniormost Employee age is:-  \", m[-1])"
   ]
  },
  {
   "cell_type": "markdown",
   "metadata": {},
   "source": [
    "#### Identify the age of the employee with employee id 159 [ If the employee isn't present return NA]\n",
    "\n",
    "- 25\n",
    "- 32\n",
    "- NA\n",
    "- 42"
   ]
  },
  {
   "cell_type": "code",
   "execution_count": 67,
   "metadata": {},
   "outputs": [
    {
     "name": "stdout",
     "output_type": "stream",
     "text": [
      "Enter the key.. 159\n",
      "NA\n"
     ]
    }
   ],
   "source": [
    "#key = 159\n",
    "key = input(\"Enter the key.. \")\n",
    "k = int(key)\n",
    "if k in d_keys:\n",
    "    print(Employee_data.get(k))\n",
    "else:\n",
    "    print(\"NA\")"
   ]
  },
  {
   "cell_type": "markdown",
   "metadata": {},
   "source": [
    "#### Count the total number of employee in the organization\n",
    "\n",
    "- 79\n",
    "- 78\n",
    "- 60\n",
    "- 74"
   ]
  },
  {
   "cell_type": "code",
   "execution_count": 68,
   "metadata": {},
   "outputs": [
    {
     "name": "stdout",
     "output_type": "stream",
     "text": [
      "Total number of employees:-  74\n"
     ]
    }
   ],
   "source": [
    "print(\"Total number of employees:- \", len(Employee_data))"
   ]
  },
  {
   "cell_type": "markdown",
   "metadata": {},
   "source": [
    "#### Calculate the mean age of the employees\n",
    "\n",
    "- 31.36\n",
    "- 36.48\n",
    "- 28.77\n",
    "- 32.47"
   ]
  },
  {
   "cell_type": "code",
   "execution_count": 69,
   "metadata": {},
   "outputs": [
    {
     "name": "stdout",
     "output_type": "stream",
     "text": [
      "sum=  2321 \n",
      "Lenght=  74 \n",
      "Mean age of Employees:-  31.364864864864863\n",
      "Mean age of Employees:-  31.36\n"
     ]
    }
   ],
   "source": [
    "s_val = sum(val)\n",
    "l_val = len(val)\n",
    "m_val = s_val/l_val\n",
    "print(\"sum= \",s_val, \"\\nLenght= \", l_val, \"\\nMean age of Employees:- \", m_val)\n",
    "print(\"Mean age of Employees:- \",round(m_val,2))"
   ]
  },
  {
   "cell_type": "code",
   "execution_count": 70,
   "metadata": {},
   "outputs": [
    {
     "name": "stdout",
     "output_type": "stream",
     "text": [
      "dict_values([43, 25, 43, 31, 26, 28, 29, 43, 25, 22, 22, 25, 30, 45, 23, 29, 28, 30, 28, 42, 39, 29, 42, 43, 42, 40, 27, 23, 30, 37, 20, 36, 27, 27, 22, 28, 23, 45, 39, 29, 33, 39, 34, 26, 30, 38, 29, 24, 28, 34, 42, 29, 23, 31, 25, 45, 42, 27, 24, 20, 24, 28, 20, 33, 34, 37, 45, 35, 23, 44, 27, 30, 26, 27])\n",
      "\n",
      "Mean age:-  31.364864864864863\n"
     ]
    }
   ],
   "source": [
    "# Type your code here\n",
    "import statistics\n",
    "val = Employee_data.values()\n",
    "print(val)\n",
    "me = statistics.mean(val)\n",
    "print(\"\\nMean age:- \",me)"
   ]
  },
  {
   "cell_type": "markdown",
   "metadata": {},
   "source": [
    "#### Perform the following two tasks and then calculate the updated mean age of the employees\n",
    "Task1 Update the ages of employee id - 104,140, and 164 as 27 <br>\n",
    "Task2 Remove the employ with employee id - 143 <br>\n",
    "\n",
    "- 30.71\n",
    "- 31.36\n",
    "- 30.13\n",
    "- 31.13\n"
   ]
  },
  {
   "cell_type": "code",
   "execution_count": 71,
   "metadata": {},
   "outputs": [
    {
     "name": "stdout",
     "output_type": "stream",
     "text": [
      "{101: 43, 102: 25, 103: 43, 104: 31, 105: 26, 106: 28, 107: 29, 108: 43, 109: 25, 110: 22, 111: 22, 112: 25, 113: 30, 115: 45, 116: 23, 117: 29, 118: 28, 119: 30, 120: 28, 121: 42, 122: 39, 123: 29, 124: 42, 125: 43, 126: 42, 127: 40, 128: 27, 129: 23, 130: 30, 131: 37, 132: 20, 133: 36, 134: 27, 135: 27, 136: 22, 137: 28, 138: 23, 139: 45, 140: 39, 141: 29, 142: 33, 143: 39, 145: 34, 146: 26, 147: 30, 148: 38, 149: 29, 150: 24, 151: 28, 152: 34, 153: 42, 154: 29, 155: 23, 156: 31, 158: 25, 160: 45, 161: 42, 162: 27, 163: 24, 164: 20, 166: 24, 167: 28, 168: 20, 169: 33, 170: 34, 171: 37, 172: 45, 173: 35, 174: 23, 175: 44, 176: 27, 177: 30, 178: 26, 179: 27}\n"
     ]
    }
   ],
   "source": [
    "# Type your code here\n",
    "print(Employee_data)"
   ]
  },
  {
   "cell_type": "code",
   "execution_count": 73,
   "metadata": {},
   "outputs": [],
   "source": [
    "Employee_data[104] = 27\n",
    "Employee_data[140] = 27\n",
    "Employee_data[164] = 27"
   ]
  },
  {
   "cell_type": "code",
   "execution_count": 74,
   "metadata": {},
   "outputs": [
    {
     "name": "stdout",
     "output_type": "stream",
     "text": [
      "{101: 43, 102: 25, 103: 43, 104: 27, 105: 26, 106: 28, 107: 29, 108: 43, 109: 25, 110: 22, 111: 22, 112: 25, 113: 30, 115: 45, 116: 23, 117: 29, 118: 28, 119: 30, 120: 28, 121: 42, 122: 39, 123: 29, 124: 42, 125: 43, 126: 42, 127: 40, 128: 27, 129: 23, 130: 30, 131: 37, 132: 20, 133: 36, 134: 27, 135: 27, 136: 22, 137: 28, 138: 23, 139: 45, 140: 27, 141: 29, 142: 33, 143: 39, 145: 34, 146: 26, 147: 30, 148: 38, 149: 29, 150: 24, 151: 28, 152: 34, 153: 42, 154: 29, 155: 23, 156: 31, 158: 25, 160: 45, 161: 42, 162: 27, 163: 24, 164: 27, 166: 24, 167: 28, 168: 20, 169: 33, 170: 34, 171: 37, 172: 45, 173: 35, 174: 23, 175: 44, 176: 27, 177: 30, 178: 26, 179: 27}\n"
     ]
    }
   ],
   "source": [
    "print(Employee_data)"
   ]
  },
  {
   "cell_type": "code",
   "execution_count": 75,
   "metadata": {},
   "outputs": [
    {
     "name": "stdout",
     "output_type": "stream",
     "text": [
      "{101: 43, 102: 25, 103: 43, 104: 27, 105: 26, 106: 28, 107: 29, 108: 43, 109: 25, 110: 22, 111: 22, 112: 25, 113: 30, 115: 45, 116: 23, 117: 29, 118: 28, 119: 30, 120: 28, 121: 42, 122: 39, 123: 29, 124: 42, 125: 43, 126: 42, 127: 40, 128: 27, 129: 23, 130: 30, 131: 37, 132: 20, 133: 36, 134: 27, 135: 27, 136: 22, 137: 28, 138: 23, 139: 45, 140: 27, 141: 29, 142: 33, 145: 34, 146: 26, 147: 30, 148: 38, 149: 29, 150: 24, 151: 28, 152: 34, 153: 42, 154: 29, 155: 23, 156: 31, 158: 25, 160: 45, 161: 42, 162: 27, 163: 24, 164: 27, 166: 24, 167: 28, 168: 20, 169: 33, 170: 34, 171: 37, 172: 45, 173: 35, 174: 23, 175: 44, 176: 27, 177: 30, 178: 26, 179: 27}\n"
     ]
    }
   ],
   "source": [
    "del Employee_data[143]\n",
    "print(Employee_data)"
   ]
  },
  {
   "cell_type": "code",
   "execution_count": 77,
   "metadata": {},
   "outputs": [
    {
     "name": "stdout",
     "output_type": "stream",
     "text": [
      "sum=  2273 \n",
      "Lenght=  73 \n",
      "Mean age of Employees:-  31.136986301369863\n",
      "Mean age of Employees:-  31.14\n"
     ]
    }
   ],
   "source": [
    "s_val = sum((Employee_data.values()))\n",
    "l_val = len((Employee_data.values()))\n",
    "m_val = s_val/l_val\n",
    "print(\"sum= \",s_val, \"\\nLenght= \", l_val, \"\\nMean age of Employees:- \", m_val)\n",
    "print(\"Mean age of Employees:- \",round(m_val,2))"
   ]
  },
  {
   "cell_type": "code",
   "execution_count": null,
   "metadata": {},
   "outputs": [],
   "source": []
  }
 ],
 "metadata": {
  "kernelspec": {
   "display_name": "Python 3",
   "language": "python",
   "name": "python3"
  },
  "language_info": {
   "codemirror_mode": {
    "name": "ipython",
    "version": 3
   },
   "file_extension": ".py",
   "mimetype": "text/x-python",
   "name": "python",
   "nbconvert_exporter": "python",
   "pygments_lexer": "ipython3",
   "version": "3.8.8"
  }
 },
 "nbformat": 4,
 "nbformat_minor": 2
}
